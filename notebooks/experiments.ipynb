{
 "cells": [
  {
   "cell_type": "code",
   "execution_count": 54,
   "id": "5d3a618f",
   "metadata": {},
   "outputs": [],
   "source": [
    "import pandas as pd\n",
    "import numpy as np"
   ]
  },
  {
   "cell_type": "code",
   "execution_count": 55,
   "id": "cb5b88c8",
   "metadata": {},
   "outputs": [
    {
     "data": {
      "text/html": [
       "<div>\n",
       "<style scoped>\n",
       "    .dataframe tbody tr th:only-of-type {\n",
       "        vertical-align: middle;\n",
       "    }\n",
       "\n",
       "    .dataframe tbody tr th {\n",
       "        vertical-align: top;\n",
       "    }\n",
       "\n",
       "    .dataframe thead th {\n",
       "        text-align: right;\n",
       "    }\n",
       "</style>\n",
       "<table border=\"1\" class=\"dataframe\">\n",
       "  <thead>\n",
       "    <tr style=\"text-align: right;\">\n",
       "      <th></th>\n",
       "      <th>ORDERNUMBER</th>\n",
       "      <th>QUANTITYORDERED</th>\n",
       "      <th>PRICEEACH</th>\n",
       "      <th>ORDERLINENUMBER</th>\n",
       "      <th>SALES</th>\n",
       "      <th>ORDERDATE</th>\n",
       "      <th>STATUS</th>\n",
       "      <th>QTR_ID</th>\n",
       "      <th>MONTH_ID</th>\n",
       "      <th>YEAR_ID</th>\n",
       "      <th>...</th>\n",
       "      <th>ADDRESSLINE1</th>\n",
       "      <th>ADDRESSLINE2</th>\n",
       "      <th>CITY</th>\n",
       "      <th>STATE</th>\n",
       "      <th>POSTALCODE</th>\n",
       "      <th>COUNTRY</th>\n",
       "      <th>TERRITORY</th>\n",
       "      <th>CONTACTLASTNAME</th>\n",
       "      <th>CONTACTFIRSTNAME</th>\n",
       "      <th>DEALSIZE</th>\n",
       "    </tr>\n",
       "  </thead>\n",
       "  <tbody>\n",
       "    <tr>\n",
       "      <th>0</th>\n",
       "      <td>10107</td>\n",
       "      <td>30</td>\n",
       "      <td>95.70</td>\n",
       "      <td>2</td>\n",
       "      <td>2871.00</td>\n",
       "      <td>2003-02-24</td>\n",
       "      <td>Shipped</td>\n",
       "      <td>1</td>\n",
       "      <td>2</td>\n",
       "      <td>2003</td>\n",
       "      <td>...</td>\n",
       "      <td>897 Long Airport Avenue</td>\n",
       "      <td>NaN</td>\n",
       "      <td>NYC</td>\n",
       "      <td>NY</td>\n",
       "      <td>10022</td>\n",
       "      <td>USA</td>\n",
       "      <td>NaN</td>\n",
       "      <td>Yu</td>\n",
       "      <td>Kwai</td>\n",
       "      <td>Small</td>\n",
       "    </tr>\n",
       "    <tr>\n",
       "      <th>1</th>\n",
       "      <td>10121</td>\n",
       "      <td>34</td>\n",
       "      <td>81.35</td>\n",
       "      <td>5</td>\n",
       "      <td>2765.90</td>\n",
       "      <td>2003-05-07</td>\n",
       "      <td>Shipped</td>\n",
       "      <td>2</td>\n",
       "      <td>5</td>\n",
       "      <td>2003</td>\n",
       "      <td>...</td>\n",
       "      <td>59 rue de l'Abbaye</td>\n",
       "      <td>NaN</td>\n",
       "      <td>Reims</td>\n",
       "      <td>NaN</td>\n",
       "      <td>51100</td>\n",
       "      <td>France</td>\n",
       "      <td>EMEA</td>\n",
       "      <td>Henriot</td>\n",
       "      <td>Paul</td>\n",
       "      <td>Small</td>\n",
       "    </tr>\n",
       "    <tr>\n",
       "      <th>2</th>\n",
       "      <td>10134</td>\n",
       "      <td>41</td>\n",
       "      <td>94.74</td>\n",
       "      <td>2</td>\n",
       "      <td>3884.34</td>\n",
       "      <td>2003-07-01</td>\n",
       "      <td>Shipped</td>\n",
       "      <td>3</td>\n",
       "      <td>7</td>\n",
       "      <td>2003</td>\n",
       "      <td>...</td>\n",
       "      <td>27 rue du Colonel Pierre Avia</td>\n",
       "      <td>NaN</td>\n",
       "      <td>Paris</td>\n",
       "      <td>NaN</td>\n",
       "      <td>75508</td>\n",
       "      <td>France</td>\n",
       "      <td>EMEA</td>\n",
       "      <td>Da Cunha</td>\n",
       "      <td>Daniel</td>\n",
       "      <td>Medium</td>\n",
       "    </tr>\n",
       "    <tr>\n",
       "      <th>3</th>\n",
       "      <td>10145</td>\n",
       "      <td>45</td>\n",
       "      <td>83.26</td>\n",
       "      <td>6</td>\n",
       "      <td>3746.70</td>\n",
       "      <td>2003-08-25</td>\n",
       "      <td>Shipped</td>\n",
       "      <td>3</td>\n",
       "      <td>8</td>\n",
       "      <td>2003</td>\n",
       "      <td>...</td>\n",
       "      <td>78934 Hillside Dr.</td>\n",
       "      <td>NaN</td>\n",
       "      <td>Pasadena</td>\n",
       "      <td>CA</td>\n",
       "      <td>90003</td>\n",
       "      <td>USA</td>\n",
       "      <td>NaN</td>\n",
       "      <td>Young</td>\n",
       "      <td>Julie</td>\n",
       "      <td>Medium</td>\n",
       "    </tr>\n",
       "    <tr>\n",
       "      <th>4</th>\n",
       "      <td>10159</td>\n",
       "      <td>49</td>\n",
       "      <td>100.00</td>\n",
       "      <td>14</td>\n",
       "      <td>5205.27</td>\n",
       "      <td>2003-10-10</td>\n",
       "      <td>Shipped</td>\n",
       "      <td>4</td>\n",
       "      <td>10</td>\n",
       "      <td>2003</td>\n",
       "      <td>...</td>\n",
       "      <td>7734 Strong St.</td>\n",
       "      <td>NaN</td>\n",
       "      <td>San Francisco</td>\n",
       "      <td>CA</td>\n",
       "      <td>NaN</td>\n",
       "      <td>USA</td>\n",
       "      <td>NaN</td>\n",
       "      <td>Brown</td>\n",
       "      <td>Julie</td>\n",
       "      <td>Medium</td>\n",
       "    </tr>\n",
       "  </tbody>\n",
       "</table>\n",
       "<p>5 rows × 25 columns</p>\n",
       "</div>"
      ],
      "text/plain": [
       "   ORDERNUMBER  QUANTITYORDERED  PRICEEACH  ORDERLINENUMBER    SALES  \\\n",
       "0        10107               30      95.70                2  2871.00   \n",
       "1        10121               34      81.35                5  2765.90   \n",
       "2        10134               41      94.74                2  3884.34   \n",
       "3        10145               45      83.26                6  3746.70   \n",
       "4        10159               49     100.00               14  5205.27   \n",
       "\n",
       "   ORDERDATE   STATUS  QTR_ID  MONTH_ID  YEAR_ID  ...  \\\n",
       "0 2003-02-24  Shipped       1         2     2003  ...   \n",
       "1 2003-05-07  Shipped       2         5     2003  ...   \n",
       "2 2003-07-01  Shipped       3         7     2003  ...   \n",
       "3 2003-08-25  Shipped       3         8     2003  ...   \n",
       "4 2003-10-10  Shipped       4        10     2003  ...   \n",
       "\n",
       "                    ADDRESSLINE1  ADDRESSLINE2           CITY STATE  \\\n",
       "0        897 Long Airport Avenue           NaN            NYC    NY   \n",
       "1             59 rue de l'Abbaye           NaN          Reims   NaN   \n",
       "2  27 rue du Colonel Pierre Avia           NaN          Paris   NaN   \n",
       "3             78934 Hillside Dr.           NaN       Pasadena    CA   \n",
       "4                7734 Strong St.           NaN  San Francisco    CA   \n",
       "\n",
       "  POSTALCODE COUNTRY TERRITORY CONTACTLASTNAME CONTACTFIRSTNAME DEALSIZE  \n",
       "0      10022     USA       NaN              Yu             Kwai    Small  \n",
       "1      51100  France      EMEA         Henriot             Paul    Small  \n",
       "2      75508  France      EMEA        Da Cunha           Daniel   Medium  \n",
       "3      90003     USA       NaN           Young            Julie   Medium  \n",
       "4        NaN     USA       NaN           Brown            Julie   Medium  \n",
       "\n",
       "[5 rows x 25 columns]"
      ]
     },
     "execution_count": 55,
     "metadata": {},
     "output_type": "execute_result"
    }
   ],
   "source": [
    "df = pd.read_excel('../data\\Sample Sales Data- Interns task.xlsx')\n",
    "df.head()"
   ]
  },
  {
   "cell_type": "code",
   "execution_count": 108,
   "id": "6f76f03b",
   "metadata": {},
   "outputs": [
    {
     "data": {
      "text/plain": [
       "array(['S10_1678', 'S10_1949', 'S10_2016', 'S10_4698', 'S10_4757',\n",
       "       'S10_4962', 'S12_1099', 'S12_1108', 'S12_1666', 'S12_2823',\n",
       "       'S12_3148', 'S12_3380', 'S12_3891', 'S12_3990', 'S12_4473',\n",
       "       'S12_4675', 'S18_1097', 'S18_1129', 'S18_1342', 'S18_1367',\n",
       "       'S18_1589', 'S18_1662', 'S18_1749', 'S18_1889'], dtype=object)"
      ]
     },
     "execution_count": 108,
     "metadata": {},
     "output_type": "execute_result"
    }
   ],
   "source": [
    "df['PRODUCTCODE'].unique()"
   ]
  },
  {
   "cell_type": "code",
   "execution_count": 103,
   "id": "d35b039c",
   "metadata": {},
   "outputs": [
    {
     "data": {
      "text/plain": [
       "'2003-02-24'"
      ]
     },
     "execution_count": 103,
     "metadata": {},
     "output_type": "execute_result"
    }
   ],
   "source": [
    "str(df['ORDERDATE'][0]).split(\" \")[0]"
   ]
  },
  {
   "cell_type": "code",
   "execution_count": 30,
   "id": "2ea577ac",
   "metadata": {},
   "outputs": [
    {
     "name": "stdout",
     "output_type": "stream",
     "text": [
      "<class 'pandas.core.frame.DataFrame'>\n",
      "RangeIndex: 625 entries, 0 to 624\n",
      "Data columns (total 25 columns):\n",
      " #   Column            Non-Null Count  Dtype         \n",
      "---  ------            --------------  -----         \n",
      " 0   ORDERNUMBER       625 non-null    int64         \n",
      " 1   QUANTITYORDERED   625 non-null    int64         \n",
      " 2   PRICEEACH         625 non-null    float64       \n",
      " 3   ORDERLINENUMBER   625 non-null    int64         \n",
      " 4   SALES             625 non-null    float64       \n",
      " 5   ORDERDATE         625 non-null    datetime64[ns]\n",
      " 6   STATUS            625 non-null    object        \n",
      " 7   QTR_ID            625 non-null    int64         \n",
      " 8   MONTH_ID          625 non-null    int64         \n",
      " 9   YEAR_ID           625 non-null    int64         \n",
      " 10  PRODUCTLINE       625 non-null    object        \n",
      " 11  MSRP              625 non-null    int64         \n",
      " 12  PRODUCTCODE       625 non-null    object        \n",
      " 13  CUSTOMERNAME      625 non-null    object        \n",
      " 14  PHONE             625 non-null    object        \n",
      " 15  ADDRESSLINE1      625 non-null    object        \n",
      " 16  ADDRESSLINE2      64 non-null     object        \n",
      " 17  CITY              625 non-null    object        \n",
      " 18  STATE             302 non-null    object        \n",
      " 19  POSTALCODE        597 non-null    object        \n",
      " 20  COUNTRY           625 non-null    object        \n",
      " 21  TERRITORY         380 non-null    object        \n",
      " 22  CONTACTLASTNAME   625 non-null    object        \n",
      " 23  CONTACTFIRSTNAME  625 non-null    object        \n",
      " 24  DEALSIZE          625 non-null    object        \n",
      "dtypes: datetime64[ns](1), float64(2), int64(7), object(15)\n",
      "memory usage: 122.2+ KB\n"
     ]
    }
   ],
   "source": [
    "df.info()"
   ]
  },
  {
   "cell_type": "code",
   "execution_count": 112,
   "id": "8e92d2cc",
   "metadata": {
    "scrolled": true
   },
   "outputs": [
    {
     "data": {
      "text/plain": [
       "451    S18_1129\n",
       "530    S18_1589\n",
       "Name: PRODUCTCODE, dtype: object"
      ]
     },
     "execution_count": 112,
     "metadata": {},
     "output_type": "execute_result"
    }
   ],
   "source": [
    "one_day_data = df[df['ORDERDATE'] == \"2003-09-11\"]\n",
    "one_day_data['PRODUCTCODE']"
   ]
  },
  {
   "cell_type": "code",
   "execution_count": 12,
   "id": "bf3630b7",
   "metadata": {},
   "outputs": [],
   "source": [
    "dates = df['ORDERDATE'].unique()"
   ]
  },
  {
   "cell_type": "code",
   "execution_count": 20,
   "id": "fbd6b729",
   "metadata": {},
   "outputs": [],
   "source": [
    "sorted_dates = sorted(list(dates))"
   ]
  },
  {
   "cell_type": "code",
   "execution_count": 98,
   "id": "b0abbbed",
   "metadata": {},
   "outputs": [
    {
     "data": {
      "text/plain": [
       "[Timestamp('2003-01-06 00:00:00'),\n",
       " Timestamp('2003-01-10 00:00:00'),\n",
       " Timestamp('2003-01-29 00:00:00'),\n",
       " Timestamp('2003-01-31 00:00:00'),\n",
       " Timestamp('2003-02-11 00:00:00'),\n",
       " Timestamp('2003-02-17 00:00:00'),\n",
       " Timestamp('2003-02-24 00:00:00'),\n",
       " Timestamp('2003-03-03 00:00:00'),\n",
       " Timestamp('2003-03-10 00:00:00'),\n",
       " Timestamp('2003-03-18 00:00:00'),\n",
       " Timestamp('2003-03-24 00:00:00'),\n",
       " Timestamp('2003-03-25 00:00:00'),\n",
       " Timestamp('2003-03-26 00:00:00'),\n",
       " Timestamp('2003-04-01 00:00:00'),\n",
       " Timestamp('2003-04-04 00:00:00'),\n",
       " Timestamp('2003-04-16 00:00:00'),\n",
       " Timestamp('2003-04-28 00:00:00'),\n",
       " Timestamp('2003-04-29 00:00:00'),\n",
       " Timestamp('2003-05-07 00:00:00'),\n",
       " Timestamp('2003-05-08 00:00:00'),\n",
       " Timestamp('2003-05-20 00:00:00'),\n",
       " Timestamp('2003-05-21 00:00:00'),\n",
       " Timestamp('2003-05-28 00:00:00'),\n",
       " Timestamp('2003-06-03 00:00:00'),\n",
       " Timestamp('2003-06-12 00:00:00'),\n",
       " Timestamp('2003-06-16 00:00:00'),\n",
       " Timestamp('2003-07-01 00:00:00'),\n",
       " Timestamp('2003-07-02 00:00:00'),\n",
       " Timestamp('2003-07-04 00:00:00'),\n",
       " Timestamp('2003-07-10 00:00:00'),\n",
       " Timestamp('2003-07-16 00:00:00'),\n",
       " Timestamp('2003-07-24 00:00:00'),\n",
       " Timestamp('2003-08-01 00:00:00'),\n",
       " Timestamp('2003-08-08 00:00:00'),\n",
       " Timestamp('2003-08-10 00:00:00'),\n",
       " Timestamp('2003-08-25 00:00:00'),\n",
       " Timestamp('2003-09-05 00:00:00'),\n",
       " Timestamp('2003-09-11 00:00:00'),\n",
       " Timestamp('2003-09-12 00:00:00'),\n",
       " Timestamp('2003-09-19 00:00:00'),\n",
       " Timestamp('2003-09-21 00:00:00'),\n",
       " Timestamp('2003-09-28 00:00:00'),\n",
       " Timestamp('2003-10-04 00:00:00'),\n",
       " Timestamp('2003-10-05 00:00:00'),\n",
       " Timestamp('2003-10-06 00:00:00'),\n",
       " Timestamp('2003-10-10 00:00:00'),\n",
       " Timestamp('2003-10-11 00:00:00'),\n",
       " Timestamp('2003-10-17 00:00:00'),\n",
       " Timestamp('2003-10-18 00:00:00'),\n",
       " Timestamp('2003-10-20 00:00:00'),\n",
       " Timestamp('2003-10-21 00:00:00'),\n",
       " Timestamp('2003-10-22 00:00:00'),\n",
       " Timestamp('2003-10-23 00:00:00'),\n",
       " Timestamp('2003-10-28 00:00:00'),\n",
       " Timestamp('2003-11-04 00:00:00'),\n",
       " Timestamp('2003-11-05 00:00:00'),\n",
       " Timestamp('2003-11-06 00:00:00'),\n",
       " Timestamp('2003-11-08 00:00:00'),\n",
       " Timestamp('2003-11-11 00:00:00'),\n",
       " Timestamp('2003-11-12 00:00:00'),\n",
       " Timestamp('2003-11-13 00:00:00'),\n",
       " Timestamp('2003-11-14 00:00:00'),\n",
       " Timestamp('2003-11-18 00:00:00'),\n",
       " Timestamp('2003-11-20 00:00:00'),\n",
       " Timestamp('2003-11-21 00:00:00'),\n",
       " Timestamp('2003-11-25 00:00:00'),\n",
       " Timestamp('2003-11-26 00:00:00'),\n",
       " Timestamp('2003-11-27 00:00:00'),\n",
       " Timestamp('2003-12-01 00:00:00'),\n",
       " Timestamp('2003-12-02 00:00:00'),\n",
       " Timestamp('2003-12-03 00:00:00'),\n",
       " Timestamp('2003-12-05 00:00:00'),\n",
       " Timestamp('2003-12-09 00:00:00'),\n",
       " Timestamp('2004-01-02 00:00:00'),\n",
       " Timestamp('2004-01-09 00:00:00'),\n",
       " Timestamp('2004-01-12 00:00:00'),\n",
       " Timestamp('2004-01-15 00:00:00'),\n",
       " Timestamp('2004-01-16 00:00:00'),\n",
       " Timestamp('2004-01-26 00:00:00'),\n",
       " Timestamp('2004-01-29 00:00:00'),\n",
       " Timestamp('2004-02-02 00:00:00'),\n",
       " Timestamp('2004-02-04 00:00:00'),\n",
       " Timestamp('2004-02-10 00:00:00'),\n",
       " Timestamp('2004-02-12 00:00:00'),\n",
       " Timestamp('2004-02-19 00:00:00'),\n",
       " Timestamp('2004-02-20 00:00:00'),\n",
       " Timestamp('2004-02-21 00:00:00'),\n",
       " Timestamp('2004-02-22 00:00:00'),\n",
       " Timestamp('2004-02-26 00:00:00'),\n",
       " Timestamp('2004-03-02 00:00:00'),\n",
       " Timestamp('2004-03-10 00:00:00'),\n",
       " Timestamp('2004-03-11 00:00:00'),\n",
       " Timestamp('2004-03-15 00:00:00'),\n",
       " Timestamp('2004-03-19 00:00:00'),\n",
       " Timestamp('2004-04-03 00:00:00'),\n",
       " Timestamp('2004-04-05 00:00:00'),\n",
       " Timestamp('2004-04-09 00:00:00'),\n",
       " Timestamp('2004-04-12 00:00:00'),\n",
       " Timestamp('2004-04-13 00:00:00'),\n",
       " Timestamp('2004-04-29 00:00:00'),\n",
       " Timestamp('2004-05-04 00:00:00'),\n",
       " Timestamp('2004-05-05 00:00:00'),\n",
       " Timestamp('2004-05-07 00:00:00'),\n",
       " Timestamp('2004-05-11 00:00:00'),\n",
       " Timestamp('2004-05-18 00:00:00'),\n",
       " Timestamp('2004-06-01 00:00:00'),\n",
       " Timestamp('2004-06-08 00:00:00'),\n",
       " Timestamp('2004-06-15 00:00:00'),\n",
       " Timestamp('2004-06-17 00:00:00'),\n",
       " Timestamp('2004-06-24 00:00:00'),\n",
       " Timestamp('2004-06-28 00:00:00'),\n",
       " Timestamp('2004-07-06 00:00:00'),\n",
       " Timestamp('2004-07-19 00:00:00'),\n",
       " Timestamp('2004-07-20 00:00:00'),\n",
       " Timestamp('2004-07-21 00:00:00'),\n",
       " Timestamp('2004-07-23 00:00:00'),\n",
       " Timestamp('2004-08-02 00:00:00'),\n",
       " Timestamp('2004-08-04 00:00:00'),\n",
       " Timestamp('2004-08-06 00:00:00'),\n",
       " Timestamp('2004-08-17 00:00:00'),\n",
       " Timestamp('2004-08-19 00:00:00'),\n",
       " Timestamp('2004-08-20 00:00:00'),\n",
       " Timestamp('2004-08-21 00:00:00'),\n",
       " Timestamp('2004-08-27 00:00:00'),\n",
       " Timestamp('2004-08-30 00:00:00'),\n",
       " Timestamp('2004-09-01 00:00:00'),\n",
       " Timestamp('2004-09-03 00:00:00'),\n",
       " Timestamp('2004-09-08 00:00:00'),\n",
       " Timestamp('2004-09-09 00:00:00'),\n",
       " Timestamp('2004-09-10 00:00:00'),\n",
       " Timestamp('2004-09-15 00:00:00'),\n",
       " Timestamp('2004-09-27 00:00:00'),\n",
       " Timestamp('2004-09-30 00:00:00'),\n",
       " Timestamp('2004-10-11 00:00:00'),\n",
       " Timestamp('2004-10-13 00:00:00'),\n",
       " Timestamp('2004-10-14 00:00:00'),\n",
       " Timestamp('2004-10-15 00:00:00'),\n",
       " Timestamp('2004-10-16 00:00:00'),\n",
       " Timestamp('2004-10-21 00:00:00'),\n",
       " Timestamp('2004-10-22 00:00:00'),\n",
       " Timestamp('2004-11-01 00:00:00'),\n",
       " Timestamp('2004-11-02 00:00:00'),\n",
       " Timestamp('2004-11-03 00:00:00'),\n",
       " Timestamp('2004-11-04 00:00:00'),\n",
       " Timestamp('2004-11-05 00:00:00'),\n",
       " Timestamp('2004-11-10 00:00:00'),\n",
       " Timestamp('2004-11-15 00:00:00'),\n",
       " Timestamp('2004-11-17 00:00:00'),\n",
       " Timestamp('2004-11-18 00:00:00'),\n",
       " Timestamp('2004-11-19 00:00:00'),\n",
       " Timestamp('2004-11-20 00:00:00'),\n",
       " Timestamp('2004-11-21 00:00:00'),\n",
       " Timestamp('2004-11-22 00:00:00'),\n",
       " Timestamp('2004-11-23 00:00:00'),\n",
       " Timestamp('2004-11-24 00:00:00'),\n",
       " Timestamp('2004-11-25 00:00:00'),\n",
       " Timestamp('2004-11-29 00:00:00'),\n",
       " Timestamp('2004-12-01 00:00:00'),\n",
       " Timestamp('2004-12-02 00:00:00'),\n",
       " Timestamp('2004-12-03 00:00:00'),\n",
       " Timestamp('2004-12-09 00:00:00'),\n",
       " Timestamp('2004-12-10 00:00:00'),\n",
       " Timestamp('2004-12-15 00:00:00'),\n",
       " Timestamp('2004-12-17 00:00:00'),\n",
       " Timestamp('2005-01-05 00:00:00'),\n",
       " Timestamp('2005-01-06 00:00:00'),\n",
       " Timestamp('2005-01-07 00:00:00'),\n",
       " Timestamp('2005-01-12 00:00:00'),\n",
       " Timestamp('2005-01-20 00:00:00'),\n",
       " Timestamp('2005-01-23 00:00:00'),\n",
       " Timestamp('2005-01-26 00:00:00'),\n",
       " Timestamp('2005-01-31 00:00:00'),\n",
       " Timestamp('2005-02-02 00:00:00'),\n",
       " Timestamp('2005-02-03 00:00:00'),\n",
       " Timestamp('2005-02-08 00:00:00'),\n",
       " Timestamp('2005-02-09 00:00:00'),\n",
       " Timestamp('2005-02-10 00:00:00'),\n",
       " Timestamp('2005-02-16 00:00:00'),\n",
       " Timestamp('2005-02-17 00:00:00'),\n",
       " Timestamp('2005-02-23 00:00:00'),\n",
       " Timestamp('2005-03-01 00:00:00'),\n",
       " Timestamp('2005-03-03 00:00:00'),\n",
       " Timestamp('2005-03-04 00:00:00'),\n",
       " Timestamp('2005-03-09 00:00:00'),\n",
       " Timestamp('2005-03-17 00:00:00'),\n",
       " Timestamp('2005-03-23 00:00:00'),\n",
       " Timestamp('2005-03-30 00:00:00'),\n",
       " Timestamp('2005-04-01 00:00:00'),\n",
       " Timestamp('2005-04-07 00:00:00'),\n",
       " Timestamp('2005-04-08 00:00:00'),\n",
       " Timestamp('2005-04-14 00:00:00'),\n",
       " Timestamp('2005-04-15 00:00:00'),\n",
       " Timestamp('2005-04-22 00:00:00'),\n",
       " Timestamp('2005-05-01 00:00:00'),\n",
       " Timestamp('2005-05-03 00:00:00'),\n",
       " Timestamp('2005-05-05 00:00:00'),\n",
       " Timestamp('2005-05-06 00:00:00'),\n",
       " Timestamp('2005-05-10 00:00:00'),\n",
       " Timestamp('2005-05-13 00:00:00'),\n",
       " Timestamp('2005-05-17 00:00:00'),\n",
       " Timestamp('2005-05-29 00:00:00'),\n",
       " Timestamp('2005-05-30 00:00:00'),\n",
       " Timestamp('2005-05-31 00:00:00')]"
      ]
     },
     "execution_count": 98,
     "metadata": {},
     "output_type": "execute_result"
    }
   ],
   "source": [
    "sorted_dates"
   ]
  },
  {
   "cell_type": "code",
   "execution_count": 104,
   "id": "2496361b",
   "metadata": {},
   "outputs": [
    {
     "data": {
      "text/plain": [
       "'2003-01-06'"
      ]
     },
     "execution_count": 104,
     "metadata": {},
     "output_type": "execute_result"
    }
   ],
   "source": [
    "str(sorted_dates[0]).split(\" \")[0]"
   ]
  },
  {
   "cell_type": "code",
   "execution_count": 97,
   "id": "cc80bcae",
   "metadata": {},
   "outputs": [
    {
     "data": {
      "text/plain": [
       "<DatetimeArray>\n",
       "['2003-02-24 00:00:00', '2003-05-07 00:00:00', '2003-07-01 00:00:00',\n",
       " '2003-08-25 00:00:00', '2003-10-10 00:00:00', '2003-10-28 00:00:00',\n",
       " '2003-11-11 00:00:00', '2003-11-18 00:00:00', '2003-12-01 00:00:00',\n",
       " '2004-01-15 00:00:00',\n",
       " ...\n",
       " '2004-11-10 00:00:00', '2004-11-22 00:00:00', '2004-12-03 00:00:00',\n",
       " '2005-03-01 00:00:00', '2005-03-30 00:00:00', '2005-05-10 00:00:00',\n",
       " '2003-01-06 00:00:00', '2004-01-26 00:00:00', '2004-11-25 00:00:00',\n",
       " '2005-05-29 00:00:00']\n",
       "Length: 203, dtype: datetime64[ns]"
      ]
     },
     "execution_count": 97,
     "metadata": {},
     "output_type": "execute_result"
    }
   ],
   "source": [
    "df['ORDERDATE'].unique()"
   ]
  },
  {
   "cell_type": "code",
   "execution_count": 26,
   "id": "a1579a74",
   "metadata": {},
   "outputs": [
    {
     "data": {
      "text/plain": [
       "DatetimeIndex(['2003-01-06', '2003-01-10', '2003-01-29', '2003-01-31',\n",
       "               '2003-02-11', '2003-02-17', '2003-02-24', '2003-03-03',\n",
       "               '2003-03-10', '2003-03-18',\n",
       "               ...\n",
       "               '2005-05-01', '2005-05-03', '2005-05-05', '2005-05-06',\n",
       "               '2005-05-10', '2005-05-13', '2005-05-17', '2005-05-29',\n",
       "               '2005-05-30', '2005-05-31'],\n",
       "              dtype='datetime64[ns]', length=203, freq=None)"
      ]
     },
     "execution_count": 26,
     "metadata": {},
     "output_type": "execute_result"
    }
   ],
   "source": [
    "# sorted_dates.to_numpy(dtype='datetime64[ns]')\n",
    "# np.array(sorted_dates, dtype='datetime64[ns]')\n",
    "pd.DatetimeIndex(sorted_dates)"
   ]
  },
  {
   "cell_type": "markdown",
   "id": "33ceb70e",
   "metadata": {},
   "source": [
    "### Working on individual date"
   ]
  },
  {
   "cell_type": "code",
   "execution_count": 56,
   "id": "fbeb392f",
   "metadata": {},
   "outputs": [
    {
     "data": {
      "text/html": [
       "<div>\n",
       "<style scoped>\n",
       "    .dataframe tbody tr th:only-of-type {\n",
       "        vertical-align: middle;\n",
       "    }\n",
       "\n",
       "    .dataframe tbody tr th {\n",
       "        vertical-align: top;\n",
       "    }\n",
       "\n",
       "    .dataframe thead th {\n",
       "        text-align: right;\n",
       "    }\n",
       "</style>\n",
       "<table border=\"1\" class=\"dataframe\">\n",
       "  <thead>\n",
       "    <tr style=\"text-align: right;\">\n",
       "      <th></th>\n",
       "      <th>ORDERNUMBER</th>\n",
       "      <th>QUANTITYORDERED</th>\n",
       "      <th>PRICEEACH</th>\n",
       "      <th>ORDERLINENUMBER</th>\n",
       "      <th>SALES</th>\n",
       "      <th>ORDERDATE</th>\n",
       "      <th>STATUS</th>\n",
       "      <th>QTR_ID</th>\n",
       "      <th>MONTH_ID</th>\n",
       "      <th>YEAR_ID</th>\n",
       "      <th>...</th>\n",
       "      <th>ADDRESSLINE1</th>\n",
       "      <th>ADDRESSLINE2</th>\n",
       "      <th>CITY</th>\n",
       "      <th>STATE</th>\n",
       "      <th>POSTALCODE</th>\n",
       "      <th>COUNTRY</th>\n",
       "      <th>TERRITORY</th>\n",
       "      <th>CONTACTLASTNAME</th>\n",
       "      <th>CONTACTFIRSTNAME</th>\n",
       "      <th>DEALSIZE</th>\n",
       "    </tr>\n",
       "  </thead>\n",
       "  <tbody>\n",
       "    <tr>\n",
       "      <th>0</th>\n",
       "      <td>10107</td>\n",
       "      <td>30</td>\n",
       "      <td>95.70</td>\n",
       "      <td>2</td>\n",
       "      <td>2871.00</td>\n",
       "      <td>2003-02-24</td>\n",
       "      <td>Shipped</td>\n",
       "      <td>1</td>\n",
       "      <td>2</td>\n",
       "      <td>2003</td>\n",
       "      <td>...</td>\n",
       "      <td>897 Long Airport Avenue</td>\n",
       "      <td>NaN</td>\n",
       "      <td>NYC</td>\n",
       "      <td>NY</td>\n",
       "      <td>10022</td>\n",
       "      <td>USA</td>\n",
       "      <td>NaN</td>\n",
       "      <td>Yu</td>\n",
       "      <td>Kwai</td>\n",
       "      <td>Small</td>\n",
       "    </tr>\n",
       "    <tr>\n",
       "      <th>54</th>\n",
       "      <td>10107</td>\n",
       "      <td>39</td>\n",
       "      <td>99.91</td>\n",
       "      <td>5</td>\n",
       "      <td>3896.49</td>\n",
       "      <td>2003-02-24</td>\n",
       "      <td>Shipped</td>\n",
       "      <td>1</td>\n",
       "      <td>2</td>\n",
       "      <td>2003</td>\n",
       "      <td>...</td>\n",
       "      <td>897 Long Airport Avenue</td>\n",
       "      <td>NaN</td>\n",
       "      <td>NYC</td>\n",
       "      <td>NY</td>\n",
       "      <td>10022</td>\n",
       "      <td>USA</td>\n",
       "      <td>NaN</td>\n",
       "      <td>Yu</td>\n",
       "      <td>Kwai</td>\n",
       "      <td>Medium</td>\n",
       "    </tr>\n",
       "    <tr>\n",
       "      <th>80</th>\n",
       "      <td>10107</td>\n",
       "      <td>27</td>\n",
       "      <td>100.00</td>\n",
       "      <td>4</td>\n",
       "      <td>6065.55</td>\n",
       "      <td>2003-02-24</td>\n",
       "      <td>Shipped</td>\n",
       "      <td>1</td>\n",
       "      <td>2</td>\n",
       "      <td>2003</td>\n",
       "      <td>...</td>\n",
       "      <td>897 Long Airport Avenue</td>\n",
       "      <td>NaN</td>\n",
       "      <td>NYC</td>\n",
       "      <td>NY</td>\n",
       "      <td>10022</td>\n",
       "      <td>USA</td>\n",
       "      <td>NaN</td>\n",
       "      <td>Yu</td>\n",
       "      <td>Kwai</td>\n",
       "      <td>Medium</td>\n",
       "    </tr>\n",
       "    <tr>\n",
       "      <th>240</th>\n",
       "      <td>10107</td>\n",
       "      <td>21</td>\n",
       "      <td>100.00</td>\n",
       "      <td>1</td>\n",
       "      <td>3036.60</td>\n",
       "      <td>2003-02-24</td>\n",
       "      <td>Shipped</td>\n",
       "      <td>1</td>\n",
       "      <td>2</td>\n",
       "      <td>2003</td>\n",
       "      <td>...</td>\n",
       "      <td>897 Long Airport Avenue</td>\n",
       "      <td>NaN</td>\n",
       "      <td>NYC</td>\n",
       "      <td>NY</td>\n",
       "      <td>10022</td>\n",
       "      <td>USA</td>\n",
       "      <td>NaN</td>\n",
       "      <td>Yu</td>\n",
       "      <td>Kwai</td>\n",
       "      <td>Medium</td>\n",
       "    </tr>\n",
       "  </tbody>\n",
       "</table>\n",
       "<p>4 rows × 25 columns</p>\n",
       "</div>"
      ],
      "text/plain": [
       "     ORDERNUMBER  QUANTITYORDERED  PRICEEACH  ORDERLINENUMBER    SALES  \\\n",
       "0          10107               30      95.70                2  2871.00   \n",
       "54         10107               39      99.91                5  3896.49   \n",
       "80         10107               27     100.00                4  6065.55   \n",
       "240        10107               21     100.00                1  3036.60   \n",
       "\n",
       "     ORDERDATE   STATUS  QTR_ID  MONTH_ID  YEAR_ID  ...  \\\n",
       "0   2003-02-24  Shipped       1         2     2003  ...   \n",
       "54  2003-02-24  Shipped       1         2     2003  ...   \n",
       "80  2003-02-24  Shipped       1         2     2003  ...   \n",
       "240 2003-02-24  Shipped       1         2     2003  ...   \n",
       "\n",
       "                ADDRESSLINE1  ADDRESSLINE2 CITY STATE POSTALCODE COUNTRY  \\\n",
       "0    897 Long Airport Avenue           NaN  NYC    NY      10022     USA   \n",
       "54   897 Long Airport Avenue           NaN  NYC    NY      10022     USA   \n",
       "80   897 Long Airport Avenue           NaN  NYC    NY      10022     USA   \n",
       "240  897 Long Airport Avenue           NaN  NYC    NY      10022     USA   \n",
       "\n",
       "    TERRITORY CONTACTLASTNAME CONTACTFIRSTNAME DEALSIZE  \n",
       "0         NaN              Yu             Kwai    Small  \n",
       "54        NaN              Yu             Kwai   Medium  \n",
       "80        NaN              Yu             Kwai   Medium  \n",
       "240       NaN              Yu             Kwai   Medium  \n",
       "\n",
       "[4 rows x 25 columns]"
      ]
     },
     "execution_count": 56,
     "metadata": {},
     "output_type": "execute_result"
    }
   ],
   "source": [
    "one_day_data"
   ]
  },
  {
   "cell_type": "code",
   "execution_count": 80,
   "id": "0ae7c444",
   "metadata": {},
   "outputs": [],
   "source": [
    "def fetch_data_attrs(date):\n",
    "    try:\n",
    "        one_day_data = df[df['ORDERDATE'] == date]\n",
    "    except:\n",
    "        print(\"Sales not executed on that day\")\n",
    "    total_order_quantity = one_day_data['QUANTITYORDERED'].sum()\n",
    "    total_sales = one_day_data['SALES'].sum()\n",
    "    order_date = one_day_data['ORDERDATE'].unique()[0]\n",
    "    order_date = str(order_date.date())\n",
    "    order_numbers = one_day_data['ORDERNUMBER'].unique()\n",
    "    total = {\n",
    "        'total_order_quantity': total_order_quantity,\n",
    "        'total_sales': total_sales,\n",
    "        'order_date': order_date\n",
    "    }\n",
    "    rows = one_day_data.shape[0]\n",
    "    onedaylist = []\n",
    "    for i in range(rows):\n",
    "        onedayitem = one_day_data.iloc[i]\n",
    "        onedaylist.append({\n",
    "            'Order Number': onedayitem['ORDERNUMBER'],\n",
    "            'Quantity Ordered': onedayitem['QUANTITYORDERED'],\n",
    "            'Price Each Item': onedayitem['PRICEEACH'],\n",
    "            'Order Line Number': onedayitem['ORDERLINENUMBER'],\n",
    "            'Sales': onedayitem['SALES'],\n",
    "            'Status': onedayitem['STATUS'],\n",
    "            'Qtr ID': onedayitem['QTR_ID'],\n",
    "            'Productline': onedayitem['PRODUCTLINE'],\n",
    "            'MSRP': onedayitem['MSRP'],\n",
    "            'Product Code': onedayitem['PRODUCTCODE'],\n",
    "            'Customer Name': onedayitem['CUSTOMERNAME'],\n",
    "            'Address': onedayitem['ADDRESSLINE1'],\n",
    "            'City': onedayitem['CITY'],\n",
    "            'State': onedayitem['STATE'],\n",
    "            'Country': onedayitem['COUNTRY'],\n",
    "            'Postal Code': onedayitem['POSTALCODE'],\n",
    "            'Deal Size': onedayitem['DEALSIZE'],\n",
    "\n",
    "        })\n",
    "    \n",
    "    return total, onedaylist\n",
    "    "
   ]
  },
  {
   "cell_type": "code",
   "execution_count": 81,
   "id": "644ba622",
   "metadata": {},
   "outputs": [
    {
     "data": {
      "text/plain": [
       "({'total_order_quantity': 117,\n",
       "  'total_sales': 15869.640000000001,\n",
       "  'order_date': '2003-02-24'},\n",
       " [{'Order Number': 10107,\n",
       "   'Quantity Ordered': 30,\n",
       "   'Price Each Item': 95.7,\n",
       "   'Order Line Number': 2,\n",
       "   'Sales': 2871.0,\n",
       "   'Status': 'Shipped',\n",
       "   'Qtr ID': 1,\n",
       "   'Productline': 'Motorcycles',\n",
       "   'MSRP': 95,\n",
       "   'Product Code': 'S10_1678',\n",
       "   'Customer Name': 'Land of Toys Inc.',\n",
       "   'Address': '897 Long Airport Avenue',\n",
       "   'City': 'NYC',\n",
       "   'State': 'NY',\n",
       "   'Country': 'USA',\n",
       "   'Postal Code': 10022,\n",
       "   'Deal Size': 'Small'},\n",
       "  {'Order Number': 10107,\n",
       "   'Quantity Ordered': 39,\n",
       "   'Price Each Item': 99.91,\n",
       "   'Order Line Number': 5,\n",
       "   'Sales': 3896.49,\n",
       "   'Status': 'Shipped',\n",
       "   'Qtr ID': 1,\n",
       "   'Productline': 'Motorcycles',\n",
       "   'MSRP': 118,\n",
       "   'Product Code': 'S10_2016',\n",
       "   'Customer Name': 'Land of Toys Inc.',\n",
       "   'Address': '897 Long Airport Avenue',\n",
       "   'City': 'NYC',\n",
       "   'State': 'NY',\n",
       "   'Country': 'USA',\n",
       "   'Postal Code': 10022,\n",
       "   'Deal Size': 'Medium'},\n",
       "  {'Order Number': 10107,\n",
       "   'Quantity Ordered': 27,\n",
       "   'Price Each Item': 100.0,\n",
       "   'Order Line Number': 4,\n",
       "   'Sales': 6065.55,\n",
       "   'Status': 'Shipped',\n",
       "   'Qtr ID': 1,\n",
       "   'Productline': 'Motorcycles',\n",
       "   'MSRP': 193,\n",
       "   'Product Code': 'S10_4698',\n",
       "   'Customer Name': 'Land of Toys Inc.',\n",
       "   'Address': '897 Long Airport Avenue',\n",
       "   'City': 'NYC',\n",
       "   'State': 'NY',\n",
       "   'Country': 'USA',\n",
       "   'Postal Code': 10022,\n",
       "   'Deal Size': 'Medium'},\n",
       "  {'Order Number': 10107,\n",
       "   'Quantity Ordered': 21,\n",
       "   'Price Each Item': 100.0,\n",
       "   'Order Line Number': 1,\n",
       "   'Sales': 3036.6,\n",
       "   'Status': 'Shipped',\n",
       "   'Qtr ID': 1,\n",
       "   'Productline': 'Motorcycles',\n",
       "   'MSRP': 150,\n",
       "   'Product Code': 'S12_2823',\n",
       "   'Customer Name': 'Land of Toys Inc.',\n",
       "   'Address': '897 Long Airport Avenue',\n",
       "   'City': 'NYC',\n",
       "   'State': 'NY',\n",
       "   'Country': 'USA',\n",
       "   'Postal Code': 10022,\n",
       "   'Deal Size': 'Medium'}])"
      ]
     },
     "execution_count": 81,
     "metadata": {},
     "output_type": "execute_result"
    }
   ],
   "source": [
    "fetch_data_attrs(\"2003-02-24\")"
   ]
  },
  {
   "cell_type": "code",
   "execution_count": 62,
   "id": "0b841c76",
   "metadata": {},
   "outputs": [
    {
     "data": {
      "text/plain": [
       "117"
      ]
     },
     "execution_count": 62,
     "metadata": {},
     "output_type": "execute_result"
    }
   ],
   "source": [
    "total_order_quantity = one_day_data['QUANTITYORDERED'].sum()\n",
    "total_order_quantity"
   ]
  },
  {
   "cell_type": "code",
   "execution_count": 63,
   "id": "9caf5fda",
   "metadata": {},
   "outputs": [
    {
     "data": {
      "text/plain": [
       "15869.640000000001"
      ]
     },
     "execution_count": 63,
     "metadata": {},
     "output_type": "execute_result"
    }
   ],
   "source": [
    "total_sales = one_day_data['SALES'].sum()\n",
    "total_sales"
   ]
  },
  {
   "cell_type": "code",
   "execution_count": 72,
   "id": "1acb6987",
   "metadata": {},
   "outputs": [
    {
     "data": {
      "text/plain": [
       "4"
      ]
     },
     "execution_count": 72,
     "metadata": {},
     "output_type": "execute_result"
    }
   ],
   "source": [
    "one_day_data.shape[0]"
   ]
  },
  {
   "cell_type": "code",
   "execution_count": 77,
   "id": "bb4762a7",
   "metadata": {},
   "outputs": [],
   "source": [
    "onedaylist = []\n",
    "for i in range(one_day_data.shape[0]):\n",
    "    onedayitem = one_day_data.iloc[i]\n",
    "    onedaylist.append({\n",
    "        'Order Number': onedayitem['ORDERNUMBER'],\n",
    "        'Quantity Ordered': onedayitem['QUANTITYORDERED'],\n",
    "        'Price Each Item': onedayitem['PRICEEACH'],\n",
    "        'Order Line Number': onedayitem['ORDERLINENUMBER'],\n",
    "        'Sales': onedayitem['SALES'],\n",
    "        'Status': onedayitem['STATUS'],\n",
    "        'Qtr ID': onedayitem['QTR_ID'],\n",
    "        'Productline': onedayitem['PRODUCTLINE'],\n",
    "        'MSRP': onedayitem['MSRP'],\n",
    "        'Product Code': onedayitem['PRODUCTCODE'],\n",
    "        'Customer Name': onedayitem['CUSTOMERNAME'],\n",
    "        'Address': onedayitem['ADDRESSLINE1'],\n",
    "        'City': onedayitem['CITY'],\n",
    "        'State': onedayitem['STATE'],\n",
    "        'Country': onedayitem['COUNTRY'],\n",
    "        'Postal Code': onedayitem['POSTALCODE'],\n",
    "        'Deal Size': onedayitem['DEALSIZE'],\n",
    "        \n",
    "    })"
   ]
  },
  {
   "cell_type": "code",
   "execution_count": 78,
   "id": "292e2d8d",
   "metadata": {},
   "outputs": [
    {
     "data": {
      "text/plain": [
       "[{'Order Number': 10107,\n",
       "  'Quantity Ordered': 30,\n",
       "  'Price Each Item': 95.7,\n",
       "  'Order Line Number': 2,\n",
       "  'Sales': 2871.0,\n",
       "  'Status': 'Shipped',\n",
       "  'Qtr ID': 1,\n",
       "  'Productline': 'Motorcycles',\n",
       "  'MSRP': 95,\n",
       "  'Product Code': 'S10_1678',\n",
       "  'Customer Name': 'Land of Toys Inc.',\n",
       "  'Address': '897 Long Airport Avenue',\n",
       "  'City': 'NYC',\n",
       "  'State': 'NY',\n",
       "  'Country': 'USA',\n",
       "  'Postal Code': 10022,\n",
       "  'Deal Size': 'Small'},\n",
       " {'Order Number': 10107,\n",
       "  'Quantity Ordered': 39,\n",
       "  'Price Each Item': 99.91,\n",
       "  'Order Line Number': 5,\n",
       "  'Sales': 3896.49,\n",
       "  'Status': 'Shipped',\n",
       "  'Qtr ID': 1,\n",
       "  'Productline': 'Motorcycles',\n",
       "  'MSRP': 118,\n",
       "  'Product Code': 'S10_2016',\n",
       "  'Customer Name': 'Land of Toys Inc.',\n",
       "  'Address': '897 Long Airport Avenue',\n",
       "  'City': 'NYC',\n",
       "  'State': 'NY',\n",
       "  'Country': 'USA',\n",
       "  'Postal Code': 10022,\n",
       "  'Deal Size': 'Medium'},\n",
       " {'Order Number': 10107,\n",
       "  'Quantity Ordered': 27,\n",
       "  'Price Each Item': 100.0,\n",
       "  'Order Line Number': 4,\n",
       "  'Sales': 6065.55,\n",
       "  'Status': 'Shipped',\n",
       "  'Qtr ID': 1,\n",
       "  'Productline': 'Motorcycles',\n",
       "  'MSRP': 193,\n",
       "  'Product Code': 'S10_4698',\n",
       "  'Customer Name': 'Land of Toys Inc.',\n",
       "  'Address': '897 Long Airport Avenue',\n",
       "  'City': 'NYC',\n",
       "  'State': 'NY',\n",
       "  'Country': 'USA',\n",
       "  'Postal Code': 10022,\n",
       "  'Deal Size': 'Medium'},\n",
       " {'Order Number': 10107,\n",
       "  'Quantity Ordered': 21,\n",
       "  'Price Each Item': 100.0,\n",
       "  'Order Line Number': 1,\n",
       "  'Sales': 3036.6,\n",
       "  'Status': 'Shipped',\n",
       "  'Qtr ID': 1,\n",
       "  'Productline': 'Motorcycles',\n",
       "  'MSRP': 150,\n",
       "  'Product Code': 'S12_2823',\n",
       "  'Customer Name': 'Land of Toys Inc.',\n",
       "  'Address': '897 Long Airport Avenue',\n",
       "  'City': 'NYC',\n",
       "  'State': 'NY',\n",
       "  'Country': 'USA',\n",
       "  'Postal Code': 10022,\n",
       "  'Deal Size': 'Medium'}]"
      ]
     },
     "execution_count": 78,
     "metadata": {},
     "output_type": "execute_result"
    }
   ],
   "source": [
    "onedaylist"
   ]
  },
  {
   "cell_type": "code",
   "execution_count": 85,
   "id": "2ce25b44",
   "metadata": {},
   "outputs": [],
   "source": [
    "with open('../list.txt', 'r') as file:\n",
    "    loaded_list = [line.strip() for line in file]\n"
   ]
  },
  {
   "cell_type": "code",
   "execution_count": 86,
   "id": "3da74aad",
   "metadata": {},
   "outputs": [
    {
     "data": {
      "text/plain": [
       "[\"{'Order Number': 10107, 'Quantity Ordered': 30, 'Price Each Item': 95.7, 'Order Line Number': 2, 'Sales': 2871.0, 'Status': 'Shipped', 'Qtr ID': 1, 'Productline': 'Motorcycles', 'MSRP': 95, 'Product Code': 'S10_1678', 'Customer Name': 'Land of Toys Inc.', 'Address': '897 Long Airport Avenue', 'City': 'NYC', 'State': 'NY', 'Country': 'USA', 'Postal Code': 10022, 'Deal Size': 'Small'}\",\n",
       " \"{'Order Number': 10107, 'Quantity Ordered': 39, 'Price Each Item': 99.91, 'Order Line Number': 5, 'Sales': 3896.49, 'Status': 'Shipped', 'Qtr ID': 1, 'Productline': 'Motorcycles', 'MSRP': 118, 'Product Code': 'S10_2016', 'Customer Name': 'Land of Toys Inc.', 'Address': '897 Long Airport Avenue', 'City': 'NYC', 'State': 'NY', 'Country': 'USA', 'Postal Code': 10022, 'Deal Size': 'Medium'}\",\n",
       " \"{'Order Number': 10107, 'Quantity Ordered': 27, 'Price Each Item': 100.0, 'Order Line Number': 4, 'Sales': 6065.55, 'Status': 'Shipped', 'Qtr ID': 1, 'Productline': 'Motorcycles', 'MSRP': 193, 'Product Code': 'S10_4698', 'Customer Name': 'Land of Toys Inc.', 'Address': '897 Long Airport Avenue', 'City': 'NYC', 'State': 'NY', 'Country': 'USA', 'Postal Code': 10022, 'Deal Size': 'Medium'}\",\n",
       " \"{'Order Number': 10107, 'Quantity Ordered': 21, 'Price Each Item': 100.0, 'Order Line Number': 1, 'Sales': 3036.6, 'Status': 'Shipped', 'Qtr ID': 1, 'Productline': 'Motorcycles', 'MSRP': 150, 'Product Code': 'S12_2823', 'Customer Name': 'Land of Toys Inc.', 'Address': '897 Long Airport Avenue', 'City': 'NYC', 'State': 'NY', 'Country': 'USA', 'Postal Code': 10022, 'Deal Size': 'Medium'}\"]"
      ]
     },
     "execution_count": 86,
     "metadata": {},
     "output_type": "execute_result"
    }
   ],
   "source": [
    "loaded_list"
   ]
  },
  {
   "cell_type": "code",
   "execution_count": 87,
   "id": "5780cebf",
   "metadata": {},
   "outputs": [],
   "source": [
    "with open('../list.json', 'r') as file:\n",
    "    loaded_list = json.load(file)\n"
   ]
  },
  {
   "cell_type": "code",
   "execution_count": 88,
   "id": "9e0d4de7",
   "metadata": {},
   "outputs": [
    {
     "data": {
      "text/plain": [
       "[{'Order Number': 10107,\n",
       "  'Quantity Ordered': 30,\n",
       "  'Price Each Item': 95.7,\n",
       "  'Order Line Number': 2,\n",
       "  'Sales': 2871.0,\n",
       "  'Status': 'Shipped',\n",
       "  'Qtr ID': 1,\n",
       "  'Productline': 'Motorcycles',\n",
       "  'MSRP': 95,\n",
       "  'Product Code': 'S10_1678',\n",
       "  'Customer Name': 'Land of Toys Inc.',\n",
       "  'Address': '897 Long Airport Avenue',\n",
       "  'City': 'NYC',\n",
       "  'State': 'NY',\n",
       "  'Country': 'USA',\n",
       "  'Postal Code': 10022,\n",
       "  'Deal Size': 'Small'},\n",
       " {'Order Number': 10107,\n",
       "  'Quantity Ordered': 39,\n",
       "  'Price Each Item': 99.91,\n",
       "  'Order Line Number': 5,\n",
       "  'Sales': 3896.49,\n",
       "  'Status': 'Shipped',\n",
       "  'Qtr ID': 1,\n",
       "  'Productline': 'Motorcycles',\n",
       "  'MSRP': 118,\n",
       "  'Product Code': 'S10_2016',\n",
       "  'Customer Name': 'Land of Toys Inc.',\n",
       "  'Address': '897 Long Airport Avenue',\n",
       "  'City': 'NYC',\n",
       "  'State': 'NY',\n",
       "  'Country': 'USA',\n",
       "  'Postal Code': 10022,\n",
       "  'Deal Size': 'Medium'},\n",
       " {'Order Number': 10107,\n",
       "  'Quantity Ordered': 27,\n",
       "  'Price Each Item': 100.0,\n",
       "  'Order Line Number': 4,\n",
       "  'Sales': 6065.55,\n",
       "  'Status': 'Shipped',\n",
       "  'Qtr ID': 1,\n",
       "  'Productline': 'Motorcycles',\n",
       "  'MSRP': 193,\n",
       "  'Product Code': 'S10_4698',\n",
       "  'Customer Name': 'Land of Toys Inc.',\n",
       "  'Address': '897 Long Airport Avenue',\n",
       "  'City': 'NYC',\n",
       "  'State': 'NY',\n",
       "  'Country': 'USA',\n",
       "  'Postal Code': 10022,\n",
       "  'Deal Size': 'Medium'},\n",
       " {'Order Number': 10107,\n",
       "  'Quantity Ordered': 21,\n",
       "  'Price Each Item': 100.0,\n",
       "  'Order Line Number': 1,\n",
       "  'Sales': 3036.6,\n",
       "  'Status': 'Shipped',\n",
       "  'Qtr ID': 1,\n",
       "  'Productline': 'Motorcycles',\n",
       "  'MSRP': 150,\n",
       "  'Product Code': 'S12_2823',\n",
       "  'Customer Name': 'Land of Toys Inc.',\n",
       "  'Address': '897 Long Airport Avenue',\n",
       "  'City': 'NYC',\n",
       "  'State': 'NY',\n",
       "  'Country': 'USA',\n",
       "  'Postal Code': 10022,\n",
       "  'Deal Size': 'Medium'}]"
      ]
     },
     "execution_count": 88,
     "metadata": {},
     "output_type": "execute_result"
    }
   ],
   "source": [
    "loaded_list"
   ]
  },
  {
   "cell_type": "code",
   "execution_count": 74,
   "id": "3a656107",
   "metadata": {},
   "outputs": [
    {
     "data": {
      "text/plain": [
       "10107"
      ]
     },
     "execution_count": 74,
     "metadata": {},
     "output_type": "execute_result"
    }
   ],
   "source": [
    "one_day_data.iloc[3]['ORDERNUMBER']"
   ]
  },
  {
   "cell_type": "code",
   "execution_count": 71,
   "id": "8cf0baef",
   "metadata": {},
   "outputs": [
    {
     "data": {
      "text/plain": [
       "ORDERNUMBER                           10107\n",
       "QUANTITYORDERED                          30\n",
       "PRICEEACH                              95.7\n",
       "ORDERLINENUMBER                           2\n",
       "SALES                                2871.0\n",
       "ORDERDATE               2003-02-24 00:00:00\n",
       "STATUS                              Shipped\n",
       "QTR_ID                                    1\n",
       "MONTH_ID                                  2\n",
       "YEAR_ID                                2003\n",
       "PRODUCTLINE                     Motorcycles\n",
       "MSRP                                     95\n",
       "PRODUCTCODE                        S10_1678\n",
       "CUSTOMERNAME              Land of Toys Inc.\n",
       "PHONE                            2125557818\n",
       "ADDRESSLINE1        897 Long Airport Avenue\n",
       "ADDRESSLINE2                            NaN\n",
       "CITY                                    NYC\n",
       "STATE                                    NY\n",
       "POSTALCODE                            10022\n",
       "COUNTRY                                 USA\n",
       "TERRITORY                               NaN\n",
       "CONTACTLASTNAME                          Yu\n",
       "CONTACTFIRSTNAME                       Kwai\n",
       "DEALSIZE                              Small\n",
       "Name: 0, dtype: object"
      ]
     },
     "execution_count": 71,
     "metadata": {},
     "output_type": "execute_result"
    }
   ],
   "source": [
    "one_day_data.iloc[0][:]"
   ]
  },
  {
   "cell_type": "code",
   "execution_count": 57,
   "id": "f33a9190",
   "metadata": {},
   "outputs": [
    {
     "data": {
      "text/plain": [
       "'2003-02-24'"
      ]
     },
     "execution_count": 57,
     "metadata": {},
     "output_type": "execute_result"
    }
   ],
   "source": [
    "order_date = one_day_data['ORDERDATE'].unique()[0]\n",
    "order_date = str(order_date.date())\n",
    "order_date"
   ]
  },
  {
   "cell_type": "code",
   "execution_count": 58,
   "id": "3c998439",
   "metadata": {},
   "outputs": [
    {
     "data": {
      "text/plain": [
       "array([10107], dtype=int64)"
      ]
     },
     "execution_count": 58,
     "metadata": {},
     "output_type": "execute_result"
    }
   ],
   "source": [
    "order_numbers = one_day_data['ORDERNUMBER'].unique()\n",
    "order_numbers"
   ]
  },
  {
   "cell_type": "code",
   "execution_count": 59,
   "id": "49c36866",
   "metadata": {},
   "outputs": [
    {
     "data": {
      "text/plain": [
       "2871.0"
      ]
     },
     "execution_count": 59,
     "metadata": {},
     "output_type": "execute_result"
    }
   ],
   "source": [
    "30*95.7"
   ]
  },
  {
   "cell_type": "code",
   "execution_count": null,
   "id": "94812980",
   "metadata": {},
   "outputs": [],
   "source": [
    "one_day_dict = {\n",
    "    \n",
    "}"
   ]
  },
  {
   "cell_type": "code",
   "execution_count": 82,
   "id": "60a52d58",
   "metadata": {},
   "outputs": [],
   "source": [
    "import json\n",
    "\n",
    "my_list = [1, 2, 3, 4, 5]\n",
    "\n",
    "# Write to a JSON file\n",
    "with open('list.json', 'w') as file:\n",
    "    json.dump(my_list, file)\n"
   ]
  },
  {
   "cell_type": "code",
   "execution_count": 64,
   "id": "541fcb18",
   "metadata": {},
   "outputs": [
    {
     "ename": "ModuleNotFoundError",
     "evalue": "No module named 'fpdf'",
     "output_type": "error",
     "traceback": [
      "\u001b[1;31m---------------------------------------------------------------------------\u001b[0m",
      "\u001b[1;31mModuleNotFoundError\u001b[0m                       Traceback (most recent call last)",
      "Cell \u001b[1;32mIn[64], line 1\u001b[0m\n\u001b[1;32m----> 1\u001b[0m \u001b[38;5;28;01mfrom\u001b[39;00m \u001b[38;5;21;01mfpdf\u001b[39;00m \u001b[38;5;28;01mimport\u001b[39;00m FPDF\n\u001b[0;32m      3\u001b[0m \u001b[38;5;28;01mclass\u001b[39;00m \u001b[38;5;21;01mPDFReport\u001b[39;00m(FPDF):\n\u001b[0;32m      4\u001b[0m     \u001b[38;5;28;01mdef\u001b[39;00m \u001b[38;5;21mheader\u001b[39m(\u001b[38;5;28mself\u001b[39m):\n",
      "\u001b[1;31mModuleNotFoundError\u001b[0m: No module named 'fpdf'"
     ]
    }
   ],
   "source": [
    "from fpdf import FPDF\n",
    "\n",
    "class PDFReport(FPDF):\n",
    "    def header(self):\n",
    "        self.set_font('Arial', 'B', 12)\n",
    "        self.cell(0, 10, 'Sales Report', 0, 1, 'C')\n",
    "\n",
    "    def footer(self):\n",
    "        self.set_y(-15)\n",
    "        self.set_font('Arial', 'I', 8)\n",
    "        self.cell(0, 10, f'Page {self.page_no()}', 0, 0, 'C')\n",
    "\n",
    "    def add_sales_data(self, data_frame):\n",
    "        self.set_font('Arial', '', 10)\n",
    "        self.add_page()\n",
    "        self.cell(0, 10, 'Monthly Sales Summary', 0, 1, 'L')\n",
    "        self.ln(10)\n",
    "\n",
    "        # Adding table headers\n",
    "        self.cell(40, 10, 'Month', 1)\n",
    "        self.cell(40, 10, 'Total Sales', 1)\n",
    "        self.ln()\n",
    "\n",
    "        # Adding table data\n",
    "        for index, row in data_frame.iterrows():\n",
    "            self.cell(40, 10, str(index), 1)\n",
    "            self.cell(40, 10, str(row['Sales']), 1)\n",
    "            self.ln()\n",
    "\n",
    "    def add_sales_chart(self, chart_path):\n",
    "        self.image(chart_path, x=10, y=100, w=180)\n",
    "\n",
    "pdf = PDFReport()\n",
    "pdf.add_page()\n",
    "pdf.set_font('Arial', 'B', 16)\n",
    "pdf.cell(40, 10, 'Sales Report')\n",
    "pdf.add_page()\n",
    "pdf.add_sales_data(monthly_sales)\n",
    "pdf.add_sales_chart('monthly_sales.png')\n",
    "pdf.output('sales_report.pdf')\n"
   ]
  },
  {
   "cell_type": "code",
   "execution_count": 96,
   "id": "91518ebb",
   "metadata": {},
   "outputs": [
    {
     "name": "stdout",
     "output_type": "stream",
     "text": [
      "txt\n"
     ]
    }
   ],
   "source": [
    "from pathlib import Path\n",
    "\n",
    "filepath = Path(r\"data\\Sample Sales Data- Interns task.txt\")\n",
    "extension = filepath.suffix[1:]\n",
    "\n",
    "print(extension) \n"
   ]
  },
  {
   "cell_type": "code",
   "execution_count": 90,
   "id": "839282a3",
   "metadata": {},
   "outputs": [
    {
     "data": {
      "text/plain": [
       "WindowsPath('data/Sample Sales Data- Interns task.xlsx')"
      ]
     },
     "execution_count": 90,
     "metadata": {},
     "output_type": "execute_result"
    }
   ],
   "source": [
    "filepath"
   ]
  },
  {
   "cell_type": "code",
   "execution_count": null,
   "id": "57d4cb94",
   "metadata": {},
   "outputs": [],
   "source": []
  }
 ],
 "metadata": {
  "kernelspec": {
   "display_name": "Python 3 (ipykernel)",
   "language": "python",
   "name": "python3"
  },
  "language_info": {
   "codemirror_mode": {
    "name": "ipython",
    "version": 3
   },
   "file_extension": ".py",
   "mimetype": "text/x-python",
   "name": "python",
   "nbconvert_exporter": "python",
   "pygments_lexer": "ipython3",
   "version": "3.11.5"
  }
 },
 "nbformat": 4,
 "nbformat_minor": 5
}
